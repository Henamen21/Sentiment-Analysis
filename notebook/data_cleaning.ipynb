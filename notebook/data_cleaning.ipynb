{
 "cells": [
  {
   "cell_type": "code",
   "execution_count": 6,
   "metadata": {},
   "outputs": [],
   "source": [
    "# loading modules\n",
    "import numpy as np \n",
    "import pandas as pd \n",
    "from pathlib import Path\n",
    "from fastai.text import *\n",
    "import warnings"
   ]
  },
  {
   "cell_type": "code",
   "execution_count": 7,
   "metadata": {},
   "outputs": [],
   "source": [
    "warnings.simplefilter(\"ignore\")"
   ]
  },
  {
   "cell_type": "code",
   "execution_count": 91,
   "metadata": {},
   "outputs": [
    {
     "data": {
      "text/html": [
       "<div>\n",
       "<style scoped>\n",
       "    .dataframe tbody tr th:only-of-type {\n",
       "        vertical-align: middle;\n",
       "    }\n",
       "\n",
       "    .dataframe tbody tr th {\n",
       "        vertical-align: top;\n",
       "    }\n",
       "\n",
       "    .dataframe thead th {\n",
       "        text-align: right;\n",
       "    }\n",
       "</style>\n",
       "<table border=\"1\" class=\"dataframe\">\n",
       "  <thead>\n",
       "    <tr style=\"text-align: right;\">\n",
       "      <th></th>\n",
       "      <th>tweet_id</th>\n",
       "      <th>safe_text</th>\n",
       "      <th>label</th>\n",
       "      <th>agreement</th>\n",
       "    </tr>\n",
       "  </thead>\n",
       "  <tbody>\n",
       "    <tr>\n",
       "      <th>0</th>\n",
       "      <td>CL1KWCMY</td>\n",
       "      <td>Me &amp;amp; The Big Homie meanboy3000 #MEANBOY #M...</td>\n",
       "      <td>0.0</td>\n",
       "      <td>1.0</td>\n",
       "    </tr>\n",
       "    <tr>\n",
       "      <th>1</th>\n",
       "      <td>E3303EME</td>\n",
       "      <td>I'm 100% thinking of devoting my career to pro...</td>\n",
       "      <td>1.0</td>\n",
       "      <td>1.0</td>\n",
       "    </tr>\n",
       "    <tr>\n",
       "      <th>2</th>\n",
       "      <td>M4IVFSMS</td>\n",
       "      <td>#whatcausesautism VACCINES, DO NOT VACCINATE Y...</td>\n",
       "      <td>-1.0</td>\n",
       "      <td>1.0</td>\n",
       "    </tr>\n",
       "  </tbody>\n",
       "</table>\n",
       "</div>"
      ],
      "text/plain": [
       "   tweet_id                                          safe_text  label  \\\n",
       "0  CL1KWCMY  Me &amp; The Big Homie meanboy3000 #MEANBOY #M...    0.0   \n",
       "1  E3303EME  I'm 100% thinking of devoting my career to pro...    1.0   \n",
       "2  M4IVFSMS  #whatcausesautism VACCINES, DO NOT VACCINATE Y...   -1.0   \n",
       "\n",
       "   agreement  \n",
       "0        1.0  \n",
       "1        1.0  \n",
       "2        1.0  "
      ]
     },
     "execution_count": 91,
     "metadata": {},
     "output_type": "execute_result"
    }
   ],
   "source": [
    "# Load the data\n",
    "train = pd.read_csv('../data/Train.csv').dropna(0) # Read in train, ignoring one row with missing data\n",
    "test = pd.read_csv('../data/Test.csv').fillna('') # Read in test\n",
    "test['label']=0 # We'll fill this in with predictions later\n",
    "train.head(3) # Take a peek at the data\n"
   ]
  },
  {
   "cell_type": "markdown",
   "metadata": {},
   "source": [
    "### Cleaning test data"
   ]
  },
  {
   "cell_type": "code",
   "execution_count": 93,
   "metadata": {},
   "outputs": [
    {
     "data": {
      "text/plain": [
       "0       <user> <user> ... &amp; 4 a vaccine given 2 he...\n",
       "1       Students starting school without whooping coug...\n",
       "2       I'm kinda over every ep of <user> being \"rippe...\n",
       "3       How many innocent children die for lack of vac...\n",
       "4       CDC eyeing bird flu vaccine for humans, though...\n",
       "                              ...                        \n",
       "5172    jenny mccarthy is on new years rockin eve. wha...\n",
       "5173    Measles reported in Clark Co. for 1st time sin...\n",
       "5174    <user> issues alert regarding Measles in TX. K...\n",
       "5175    I can't believe people don't vaccinate their k...\n",
       "5176    \"<user>  Alternatives to #Flu Vaccine <url> #n...\n",
       "Name: safe_text, Length: 5177, dtype: object"
      ]
     },
     "execution_count": 93,
     "metadata": {},
     "output_type": "execute_result"
    }
   ],
   "source": [
    "text = test[\"safe_text\"]\n",
    "text"
   ]
  },
  {
   "cell_type": "code",
   "execution_count": 95,
   "metadata": {},
   "outputs": [],
   "source": [
    "# replacing unnccessary words\n",
    "text = text.replace(\"<user>\", '', regex=True)\n",
    "text = text.replace(\"<url>\", '', regex=True)"
   ]
  },
  {
   "cell_type": "code",
   "execution_count": 96,
   "metadata": {},
   "outputs": [
    {
     "data": {
      "text/plain": [
       "0      ... &amp; 4 a vaccine given 2 healthy peeps,...\n",
       "1    Students starting school without whooping coug...\n",
       "2    I'm kinda over every ep of  being \"ripped from...\n",
       "3    How many innocent children die for lack of vac...\n",
       "4    CDC eyeing bird flu vaccine for humans, though...\n",
       "Name: safe_text, dtype: object"
      ]
     },
     "execution_count": 96,
     "metadata": {},
     "output_type": "execute_result"
    }
   ],
   "source": [
    "text.head(5)"
   ]
  },
  {
   "cell_type": "code",
   "execution_count": 97,
   "metadata": {},
   "outputs": [
    {
     "data": {
      "text/plain": [
       "0       amp 4 a vaccine given 2 healthy peeps FDA t...\n",
       "1    Students starting school without whooping coug...\n",
       "2    Im kinda over every ep of  being ripped from t...\n",
       "3    How many innocent children die for lack of vac...\n",
       "4    CDC eyeing bird flu vaccine for humans though ...\n",
       "Name: safe_text, dtype: object"
      ]
     },
     "execution_count": 97,
     "metadata": {},
     "output_type": "execute_result"
    }
   ],
   "source": [
    "text = text.replace('[^a-zA-Z0-9 ]', '', regex=True)\n",
    "text.head(5)"
   ]
  },
  {
   "cell_type": "code",
   "execution_count": 98,
   "metadata": {},
   "outputs": [],
   "source": [
    "text = text.astype(str)"
   ]
  },
  {
   "cell_type": "code",
   "execution_count": 100,
   "metadata": {},
   "outputs": [
    {
     "data": {
      "text/plain": [
       "0       amp 4 a vaccine given 2 healthy peeps FDA thin...\n",
       "1       Students starting school without whooping coug...\n",
       "2       Im kinda over every ep of  being ripped from t...\n",
       "3       How many innocent children die for lack of vac...\n",
       "4       CDC eyeing bird flu vaccine for humans though ...\n",
       "                              ...                        \n",
       "5172    jenny mccarthy is on new years rockin eve what...\n",
       "5173    Measles reported in Clark Co for 1st time sinc...\n",
       "5174    issues alert regarding Measles in TX Keep your...\n",
       "5175    I cant believe people dont vaccinate their kid...\n",
       "5176    Alternatives to Flu Vaccine  natural health A ...\n",
       "Name: safe_text, Length: 5177, dtype: object"
      ]
     },
     "execution_count": 100,
     "metadata": {},
     "output_type": "execute_result"
    }
   ],
   "source": [
    "text = text.apply(lambda x: x.lstrip())\n",
    "text.head(5)"
   ]
  },
  {
   "cell_type": "code",
   "execution_count": 101,
   "metadata": {},
   "outputs": [
    {
     "data": {
      "text/plain": [
       "0       amp 4 a vaccine given 2 healthy peeps FDA thin...\n",
       "1       Students starting school without whooping coug...\n",
       "2       Im kinda over every ep of  being ripped from t...\n",
       "3       How many innocent children die for lack of vac...\n",
       "4       CDC eyeing bird flu vaccine for humans though ...\n",
       "                              ...                        \n",
       "5172    jenny mccarthy is on new years rockin eve what...\n",
       "5173    Measles reported in Clark Co for 1st time sinc...\n",
       "5174    issues alert regarding Measles in TX Keep your...\n",
       "5175    I cant believe people dont vaccinate their kid...\n",
       "5176    Alternatives to Flu Vaccine  natural health A ...\n",
       "Name: safe_text, Length: 5177, dtype: object"
      ]
     },
     "execution_count": 101,
     "metadata": {},
     "output_type": "execute_result"
    }
   ],
   "source": [
    "text"
   ]
  },
  {
   "cell_type": "code",
   "execution_count": 102,
   "metadata": {},
   "outputs": [],
   "source": [
    "test[\"safe_text\"] = text"
   ]
  },
  {
   "cell_type": "code",
   "execution_count": 103,
   "metadata": {},
   "outputs": [
    {
     "data": {
      "text/html": [
       "<div>\n",
       "<style scoped>\n",
       "    .dataframe tbody tr th:only-of-type {\n",
       "        vertical-align: middle;\n",
       "    }\n",
       "\n",
       "    .dataframe tbody tr th {\n",
       "        vertical-align: top;\n",
       "    }\n",
       "\n",
       "    .dataframe thead th {\n",
       "        text-align: right;\n",
       "    }\n",
       "</style>\n",
       "<table border=\"1\" class=\"dataframe\">\n",
       "  <thead>\n",
       "    <tr style=\"text-align: right;\">\n",
       "      <th></th>\n",
       "      <th>tweet_id</th>\n",
       "      <th>safe_text</th>\n",
       "      <th>label</th>\n",
       "    </tr>\n",
       "  </thead>\n",
       "  <tbody>\n",
       "    <tr>\n",
       "      <th>0</th>\n",
       "      <td>00BHHHP1</td>\n",
       "      <td>amp 4 a vaccine given 2 healthy peeps FDA thin...</td>\n",
       "      <td>0</td>\n",
       "    </tr>\n",
       "    <tr>\n",
       "      <th>1</th>\n",
       "      <td>00UNMD0E</td>\n",
       "      <td>Students starting school without whooping coug...</td>\n",
       "      <td>0</td>\n",
       "    </tr>\n",
       "    <tr>\n",
       "      <th>2</th>\n",
       "      <td>01AXPTJF</td>\n",
       "      <td>Im kinda over every ep of  being ripped from t...</td>\n",
       "      <td>0</td>\n",
       "    </tr>\n",
       "    <tr>\n",
       "      <th>3</th>\n",
       "      <td>01HOEQJW</td>\n",
       "      <td>How many innocent children die for lack of vac...</td>\n",
       "      <td>0</td>\n",
       "    </tr>\n",
       "    <tr>\n",
       "      <th>4</th>\n",
       "      <td>01JUKMAO</td>\n",
       "      <td>CDC eyeing bird flu vaccine for humans though ...</td>\n",
       "      <td>0</td>\n",
       "    </tr>\n",
       "    <tr>\n",
       "      <th>...</th>\n",
       "      <td>...</td>\n",
       "      <td>...</td>\n",
       "      <td>...</td>\n",
       "    </tr>\n",
       "    <tr>\n",
       "      <th>5172</th>\n",
       "      <td>ZXVVNC5O</td>\n",
       "      <td>jenny mccarthy is on new years rockin eve what...</td>\n",
       "      <td>0</td>\n",
       "    </tr>\n",
       "    <tr>\n",
       "      <th>5173</th>\n",
       "      <td>ZYIANVI8</td>\n",
       "      <td>Measles reported in Clark Co for 1st time sinc...</td>\n",
       "      <td>0</td>\n",
       "    </tr>\n",
       "    <tr>\n",
       "      <th>5174</th>\n",
       "      <td>ZYITEHAH</td>\n",
       "      <td>issues alert regarding Measles in TX Keep your...</td>\n",
       "      <td>0</td>\n",
       "    </tr>\n",
       "    <tr>\n",
       "      <th>5175</th>\n",
       "      <td>ZZ3BMBTG</td>\n",
       "      <td>I cant believe people dont vaccinate their kid...</td>\n",
       "      <td>0</td>\n",
       "    </tr>\n",
       "    <tr>\n",
       "      <th>5176</th>\n",
       "      <td>ZZIYCVNH</td>\n",
       "      <td>Alternatives to Flu Vaccine  natural health A ...</td>\n",
       "      <td>0</td>\n",
       "    </tr>\n",
       "  </tbody>\n",
       "</table>\n",
       "<p>5177 rows × 3 columns</p>\n",
       "</div>"
      ],
      "text/plain": [
       "      tweet_id                                          safe_text  label\n",
       "0     00BHHHP1  amp 4 a vaccine given 2 healthy peeps FDA thin...      0\n",
       "1     00UNMD0E  Students starting school without whooping coug...      0\n",
       "2     01AXPTJF  Im kinda over every ep of  being ripped from t...      0\n",
       "3     01HOEQJW  How many innocent children die for lack of vac...      0\n",
       "4     01JUKMAO  CDC eyeing bird flu vaccine for humans though ...      0\n",
       "...        ...                                                ...    ...\n",
       "5172  ZXVVNC5O  jenny mccarthy is on new years rockin eve what...      0\n",
       "5173  ZYIANVI8  Measles reported in Clark Co for 1st time sinc...      0\n",
       "5174  ZYITEHAH  issues alert regarding Measles in TX Keep your...      0\n",
       "5175  ZZ3BMBTG  I cant believe people dont vaccinate their kid...      0\n",
       "5176  ZZIYCVNH  Alternatives to Flu Vaccine  natural health A ...      0\n",
       "\n",
       "[5177 rows x 3 columns]"
      ]
     },
     "execution_count": 103,
     "metadata": {},
     "output_type": "execute_result"
    }
   ],
   "source": [
    "test = test.dropna(axis=1, how='all')\n",
    "test"
   ]
  },
  {
   "cell_type": "markdown",
   "metadata": {},
   "source": [
    "## Cleaning training data"
   ]
  },
  {
   "cell_type": "code",
   "execution_count": 104,
   "metadata": {},
   "outputs": [
    {
     "data": {
      "text/plain": [
       "0        Me &amp; The Big Homie meanboy3000 #MEANBOY #M...\n",
       "1        I'm 100% thinking of devoting my career to pro...\n",
       "2        #whatcausesautism VACCINES, DO NOT VACCINATE Y...\n",
       "3        I mean if they immunize my kid with something ...\n",
       "4        Thanks to <user> Catch me performing at La Nui...\n",
       "                               ...                        \n",
       "9996     Living in a time where the sperm I used to was...\n",
       "9997     <user> <user>  In spite of all measles outbrea...\n",
       "9998     Interesting trends in child immunization in Ok...\n",
       "9999     CDC Says Measles Are At Highest Levels In Deca...\n",
       "10000    Pneumonia vaccine: for women w risk of pulmona...\n",
       "Name: safe_text, Length: 9999, dtype: object"
      ]
     },
     "execution_count": 104,
     "metadata": {},
     "output_type": "execute_result"
    }
   ],
   "source": [
    "text = train[\"safe_text\"]\n",
    "text"
   ]
  },
  {
   "cell_type": "code",
   "execution_count": 105,
   "metadata": {},
   "outputs": [],
   "source": [
    "# replacing unnccessary words\n",
    "text = text.replace(\"<user>\", '', regex=True)\n",
    "text = text.replace(\"<url>\", '', regex=True)"
   ]
  },
  {
   "cell_type": "code",
   "execution_count": 106,
   "metadata": {},
   "outputs": [
    {
     "data": {
      "text/plain": [
       "0    Me &amp; The Big Homie meanboy3000 #MEANBOY #M...\n",
       "1    I'm 100% thinking of devoting my career to pro...\n",
       "2    #whatcausesautism VACCINES, DO NOT VACCINATE Y...\n",
       "3    I mean if they immunize my kid with something ...\n",
       "4    Thanks to  Catch me performing at La Nuit NYC ...\n",
       "Name: safe_text, dtype: object"
      ]
     },
     "execution_count": 106,
     "metadata": {},
     "output_type": "execute_result"
    }
   ],
   "source": [
    "text = text.apply(lambda x: x.lstrip())\n",
    "text.head(5)"
   ]
  },
  {
   "cell_type": "code",
   "execution_count": 107,
   "metadata": {},
   "outputs": [
    {
     "data": {
      "text/plain": [
       "0    Me amp The Big Homie meanboy3000 MEANBOY MB MB...\n",
       "1    Im 100 thinking of devoting my career to provi...\n",
       "2    whatcausesautism VACCINES DO NOT VACCINATE YOU...\n",
       "3    I mean if they immunize my kid with something ...\n",
       "4    Thanks to  Catch me performing at La Nuit NYC ...\n",
       "Name: safe_text, dtype: object"
      ]
     },
     "execution_count": 107,
     "metadata": {},
     "output_type": "execute_result"
    }
   ],
   "source": [
    "text = text.replace('[^a-zA-Z0-9 ]', '', regex=True)\n",
    "text.head(5)"
   ]
  },
  {
   "cell_type": "code",
   "execution_count": 110,
   "metadata": {},
   "outputs": [
    {
     "data": {
      "text/html": [
       "<div>\n",
       "<style scoped>\n",
       "    .dataframe tbody tr th:only-of-type {\n",
       "        vertical-align: middle;\n",
       "    }\n",
       "\n",
       "    .dataframe tbody tr th {\n",
       "        vertical-align: top;\n",
       "    }\n",
       "\n",
       "    .dataframe thead th {\n",
       "        text-align: right;\n",
       "    }\n",
       "</style>\n",
       "<table border=\"1\" class=\"dataframe\">\n",
       "  <thead>\n",
       "    <tr style=\"text-align: right;\">\n",
       "      <th></th>\n",
       "      <th>tweet_id</th>\n",
       "      <th>safe_text</th>\n",
       "      <th>label</th>\n",
       "      <th>agreement</th>\n",
       "    </tr>\n",
       "  </thead>\n",
       "  <tbody>\n",
       "    <tr>\n",
       "      <th>0</th>\n",
       "      <td>CL1KWCMY</td>\n",
       "      <td>Me amp The Big Homie meanboy3000 MEANBOY MB MB...</td>\n",
       "      <td>0.0</td>\n",
       "      <td>1.0</td>\n",
       "    </tr>\n",
       "    <tr>\n",
       "      <th>1</th>\n",
       "      <td>E3303EME</td>\n",
       "      <td>Im 100 thinking of devoting my career to provi...</td>\n",
       "      <td>1.0</td>\n",
       "      <td>1.0</td>\n",
       "    </tr>\n",
       "    <tr>\n",
       "      <th>2</th>\n",
       "      <td>M4IVFSMS</td>\n",
       "      <td>whatcausesautism VACCINES DO NOT VACCINATE YOU...</td>\n",
       "      <td>-1.0</td>\n",
       "      <td>1.0</td>\n",
       "    </tr>\n",
       "    <tr>\n",
       "      <th>3</th>\n",
       "      <td>1DR6ROZ4</td>\n",
       "      <td>I mean if they immunize my kid with something ...</td>\n",
       "      <td>-1.0</td>\n",
       "      <td>1.0</td>\n",
       "    </tr>\n",
       "    <tr>\n",
       "      <th>4</th>\n",
       "      <td>J77ENIIE</td>\n",
       "      <td>Thanks to  Catch me performing at La Nuit NYC ...</td>\n",
       "      <td>0.0</td>\n",
       "      <td>1.0</td>\n",
       "    </tr>\n",
       "  </tbody>\n",
       "</table>\n",
       "</div>"
      ],
      "text/plain": [
       "   tweet_id                                          safe_text  label  \\\n",
       "0  CL1KWCMY  Me amp The Big Homie meanboy3000 MEANBOY MB MB...    0.0   \n",
       "1  E3303EME  Im 100 thinking of devoting my career to provi...    1.0   \n",
       "2  M4IVFSMS  whatcausesautism VACCINES DO NOT VACCINATE YOU...   -1.0   \n",
       "3  1DR6ROZ4  I mean if they immunize my kid with something ...   -1.0   \n",
       "4  J77ENIIE  Thanks to  Catch me performing at La Nuit NYC ...    0.0   \n",
       "\n",
       "   agreement  \n",
       "0        1.0  \n",
       "1        1.0  \n",
       "2        1.0  \n",
       "3        1.0  \n",
       "4        1.0  "
      ]
     },
     "execution_count": 110,
     "metadata": {},
     "output_type": "execute_result"
    }
   ],
   "source": [
    "train[\"safe_text\"] = text\n",
    "train.head(5)"
   ]
  }
 ],
 "metadata": {
  "kernelspec": {
   "display_name": "base",
   "language": "python",
   "name": "python3"
  },
  "language_info": {
   "codemirror_mode": {
    "name": "ipython",
    "version": 3
   },
   "file_extension": ".py",
   "mimetype": "text/x-python",
   "name": "python",
   "nbconvert_exporter": "python",
   "pygments_lexer": "ipython3",
   "version": "3.9.13"
  },
  "orig_nbformat": 4
 },
 "nbformat": 4,
 "nbformat_minor": 2
}
